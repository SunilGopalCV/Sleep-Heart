{
 "cells": [
  {
   "cell_type": "markdown",
   "metadata": {},
   "source": [
    "## <ins> Sleep Disorders and Heart Disease: A Machine Learning Exploration </ins>"
   ]
  },
  {
   "cell_type": "markdown",
   "metadata": {},
   "source": [
    "### <ins> Abstract: </ins>\n",
    "\n",
    "* This study investigates the interconnectedness between sleep disorders and heart disease by employing a machine learning model trained on a comprehensive dataset encompassing **sleep health and lifestyle factors.** \n",
    "\n",
    "* Validation of the model’s predictive capabilities is conducted using a heart disease-specific dataset, with a specific emphasis on understanding the association between sleep disorders and cardiovascular health. \n",
    "\n",
    "* Key factors influencing sleep disorders are identified and normalized. \n",
    "\n",
    "* Four machine learning algorithms are deployed, with model performance assessed using the **Area Under the Curve (AUC) of the Receiver Operating Characteristic (ROC) curve.** \n",
    "\n",
    "* Data integration involves the utilization of a trained **Support Vector Machine (SVM)**model to predict sleep disorders in heart disease dataset (Cardio), which is then integrated with Sleep health and lifestyle dataset to create new dataset."
   ]
  },
  {
   "cell_type": "code",
   "execution_count": 1,
   "metadata": {},
   "outputs": [],
   "source": [
    "import numpy as np\n",
    "import pandas as pd\n",
    "import matplotlib.pyplot as plt\n",
    "import seaborn as sns\n",
    "from sklearn.neighbors import KNeighborsClassifier\n",
    "from sklearn.model_selection import train_test_split\n",
    "from sklearn import metrics\n",
    "from sklearn.preprocessing import StandardScaler\n",
    "from sklearn.svm import SVC\n",
    "from sklearn.metrics import roc_curve, auc\n",
    "from sklearn.linear_model import LogisticRegression\n",
    "from sklearn.naive_bayes import GaussianNB"
   ]
  },
  {
   "cell_type": "markdown",
   "metadata": {},
   "source": [
    "### <ins> Datasets: </ins>\n",
    "\n",
    "1. **Cardio Dataset:**\n",
    "    * This dataset contains 389 records of male patients data with 12 features. The target variable is the presence or absence of cardiovascular disease (CVD) in patients. The dataset is available on Kaggle.\n",
    "\n",
    "2. **Sleep Health and Lifestyle Dataset:**\n",
    "    * This dataset contains 1,000 records of patients data with 12 features. The target variable is the presence or absence of sleep disorders in patients. The dataset is available on Kaggle."
   ]
  },
  {
   "cell_type": "code",
   "execution_count": 2,
   "metadata": {},
   "outputs": [],
   "source": [
    "Dataset1 = pd.read_csv(\"./Datasets/HeartDisease.csv\")\n",
    "Dataset2 = pd.read_csv(\"./Datasets/SleepDisorder.csv\")"
   ]
  },
  {
   "cell_type": "markdown",
   "metadata": {},
   "source": [
    "### <ins>Key Factors Influencing Sleep Disorders:</ins>\n",
    "\n",
    "1. **Age:** \n",
    "    * The risk of sleep disorders increases with age.\n",
    "2. **Stress Level:** \n",
    "    * High stress levels can lead to sleep disorders.\n",
    "3. **BMI Category:** \n",
    "    * Obesity can lead to sleep disorders.\n",
    "4. **Blood Pressure:**\n",
    "    * High blood pressure can lead to sleep disorders.\n",
    "\n",
    "* These factors are selected by PCA.These factors are normalized to ensure that the model is not biased towards any particular feature.\n",
    "\n",
    "* Dataset 2 is Splited into Train and Test data. The model is trained on the Train data and tested on the Test data. The model is then validated on the Cardio dataset.\n",
    "\n",
    "* The Split ratio is **70:30**."
   ]
  },
  {
   "cell_type": "code",
   "execution_count": 3,
   "metadata": {},
   "outputs": [],
   "source": [
    "X = Dataset2[[\"Age\", \"Stress Level\", \"BMI Category\", \"Blood Pressure\"]].values\n",
    "Y = Dataset2[\"Sleep Disorder\"].values\n",
    "X_train, X_test, Y_train, Y_test = train_test_split(X ,Y ,test_size = 0.3,random_state=1)"
   ]
  },
  {
   "cell_type": "markdown",
   "metadata": {},
   "source": [
    "### <ins>Machine Learning Algorithms:</ins>\n",
    "\n",
    "1. **K-Nearest Neighbors (KNN):**\n",
    "    * KNN is a non-parametric algorithm that classifies data points based on their similarity to other data points in the dataset."
   ]
  },
  {
   "cell_type": "code",
   "execution_count": 4,
   "metadata": {},
   "outputs": [
    {
     "name": "stdout",
     "output_type": "stream",
     "text": [
      "KNN Accuracy:  0.8947368421052632\n"
     ]
    }
   ],
   "source": [
    "knn = KNeighborsClassifier(n_neighbors=8)\n",
    "knn.fit(X_train, Y_train)\n",
    "Pred_KNN = knn.predict(X_test)\n",
    "Accuracy_KNN = metrics.accuracy_score(Y_test,Pred_KNN)\n",
    "print(\"KNN Accuracy: \", Accuracy_KNN)"
   ]
  },
  {
   "cell_type": "markdown",
   "metadata": {},
   "source": [
    "2. **Support Vector Machine (SVM):**\n",
    "    * SVM is a supervised learning algorithm that classifies data points by finding the hyperplane that best separates the classes."
   ]
  },
  {
   "cell_type": "code",
   "execution_count": 5,
   "metadata": {},
   "outputs": [
    {
     "name": "stdout",
     "output_type": "stream",
     "text": [
      "SVM Accuracy:  0.9298245614035088\n"
     ]
    }
   ],
   "source": [
    "svm = SVC(kernel=\"linear\", random_state=42, shrinking=False)\n",
    "svm.fit(X_train, Y_train)\n",
    "Pred_SVM = svm.predict(X_test)\n",
    "Accuracy_SVM = metrics.accuracy_score(Y_test, Pred_SVM)\n",
    "Deci_SVM = svm.decision_function(X_test)\n",
    "print(\"SVM Accuracy: \", Accuracy_SVM)"
   ]
  },
  {
   "cell_type": "markdown",
   "metadata": {},
   "source": [
    "3. **Logistic Regression:**\n",
    "    * Logistic regression is a statistical model that predicts the probability of a binary outcome."
   ]
  },
  {
   "cell_type": "code",
   "execution_count": 6,
   "metadata": {},
   "outputs": [
    {
     "name": "stdout",
     "output_type": "stream",
     "text": [
      "Logistic Regression Accuracy:  0.9122807017543859\n"
     ]
    }
   ],
   "source": [
    "LogiReg = LogisticRegression(solver=\"lbfgs\")\n",
    "LogiReg.fit(X_train, Y_train)\n",
    "Pred_LogiReg = LogiReg.predict(X_test)\n",
    "Accuracy_LogiReg = metrics.accuracy_score(Y_test, Pred_LogiReg)\n",
    "Deci_LogiReg = LogiReg.decision_function(X_test)\n",
    "print(\"Logistic Regression Accuracy: \", Accuracy_LogiReg)"
   ]
  },
  {
   "cell_type": "markdown",
   "metadata": {},
   "source": [
    "4. **Gaussion Naive Bayes:**\n",
    "    * Naive Bayes is a probabilistic algorithm that uses Bayes' theorem to predict the probability of a binary outcome."
   ]
  },
  {
   "cell_type": "code",
   "execution_count": 7,
   "metadata": {},
   "outputs": [
    {
     "name": "stdout",
     "output_type": "stream",
     "text": [
      "Naive Bayes Accuracy:  0.9122807017543859\n"
     ]
    }
   ],
   "source": [
    "Naive = GaussianNB()\n",
    "Naive.fit(X_train, Y_train)\n",
    "Pred_Naive = Naive.predict(X_test)\n",
    "Accuracy_Naive = metrics.accuracy_score(Y_test, Pred_Naive)\n",
    "Deci_Naive = Naive.predict_proba(X_test)\n",
    "print(\"Naive Bayes Accuracy: \", Accuracy_Naive)"
   ]
  },
  {
   "cell_type": "markdown",
   "metadata": {},
   "source": [
    "### <ins>Model Evaluation:</ins>\n",
    "\n",
    "AUC of the ROC curve is used to evaluate the performance of the model. The AUC value ranges from 0 to 1, with higher values indicating better performance."
   ]
  },
  {
   "cell_type": "code",
   "execution_count": 8,
   "metadata": {},
   "outputs": [],
   "source": [
    "knn_fpr, knn_tpr, knn_thr = roc_curve(Y_test, Pred_KNN)\n",
    "auc_knn = auc(knn_fpr, knn_tpr)\n",
    "svm_fpr, svm_tpr, svm_thr = roc_curve(Y_test, Deci_SVM)\n",
    "auc_svm = auc(svm_fpr, svm_tpr)\n",
    "logi_fpr, logi_tpr, logi_thr = roc_curve(Y_test, Deci_LogiReg)\n",
    "auc_logi = auc(logi_fpr, logi_tpr)\n",
    "naive_fpr, naive_tpr, naive_thr = roc_curve(Y_test, Pred_Naive)\n",
    "auc_naive = auc(naive_fpr, naive_tpr)"
   ]
  },
  {
   "cell_type": "code",
   "execution_count": 9,
   "metadata": {},
   "outputs": [
    {
     "data": {
      "image/png": "[encoded data removed]",
      "text/plain": [
       "<Figure size 500x500 with 1 Axes>"
      ]
     },
     "metadata": {},
     "output_type": "display_data"
    }
   ],
   "source": [
    "plt.figure(figsize=(5, 5), dpi=100)\n",
    "plt.plot(svm_fpr, svm_tpr, linestyle=\"-\", label='SVM(auc = %0.3f)'%auc_svm)\n",
    "plt.plot(knn_fpr, knn_tpr, marker=\".\", label='KNN(auc = %0.3f)'%auc_knn)\n",
    "plt.plot(logi_fpr, logi_tpr, marker=\".\", label = 'Logistic Reg(auc = %0.3f)'%auc_logi)\n",
    "plt.plot(naive_fpr, naive_tpr, marker=\".\", label='Naive Bayes(auc = %0.3f)'%auc_naive)\n",
    "\n",
    "plt.xlabel(\"False Positive Rate -->\")\n",
    "plt.ylabel(\"True Positive Rate -->\")\n",
    "\n",
    "plt.legend()\n",
    "plt.show()"
   ]
  },
  {
   "cell_type": "markdown",
   "metadata": {},
   "source": [
    "### <ins>Feautre Integration:</ins>\n",
    "\n",
    "The trained SVM model is used to predict sleep disorders in the Cardio dataset. The predicted values are then integrated with the Cardio dataset to create a new dataset."
   ]
  },
  {
   "cell_type": "code",
   "execution_count": 10,
   "metadata": {},
   "outputs": [],
   "source": [
    "Dataset1Cpy = Dataset1.copy(deep=True)\n",
    "Dataset1X = Dataset1Cpy[[\"age\", \"exerciseangia\", \"serumcholestrol\", \"restingBP\"]].values\n",
    "PredictionsCardio = svm.predict(Dataset1X)\n",
    "Dataset1Cpy[\"Sleep Disorder\"] = PredictionsCardio\n",
    "Acc_Dataset3 = metrics.accuracy_score(Dataset1Cpy[\"Heart Risk\"].values,PredictionsCardio)\n",
    "Dataset1Cpy.to_csv(\"./Datasets/Result.csv\", index=False)"
   ]
  },
  {
   "cell_type": "markdown",
   "metadata": {},
   "source": [
    "### <ins> Result </ins>\n",
    "\n",
    "The Resulting Dataset with Sleeping Disorder feautre integrated with Cardio Dataset."
   ]
  },
  {
   "cell_type": "code",
   "execution_count": 11,
   "metadata": {},
   "outputs": [
    {
     "data": {
      "text/html": [
       "<div>\n",
       "<style scoped>\n",
       "    .dataframe tbody tr th:only-of-type {\n",
       "        vertical-align: middle;\n",
       "    }\n",
       "\n",
       "    .dataframe tbody tr th {\n",
       "        vertical-align: top;\n",
       "    }\n",
       "\n",
       "    .dataframe thead th {\n",
       "        text-align: right;\n",
       "    }\n",
       "</style>\n",
       "<table border=\"1\" class=\"dataframe\">\n",
       "  <thead>\n",
       "    <tr style=\"text-align: right;\">\n",
       "      <th></th>\n",
       "      <th>patientid</th>\n",
       "      <th>age</th>\n",
       "      <th>gender</th>\n",
       "      <th>chestpain</th>\n",
       "      <th>restingBP</th>\n",
       "      <th>serumcholestrol</th>\n",
       "      <th>fastingbloodsugar</th>\n",
       "      <th>restingrelectro</th>\n",
       "      <th>maxheartrate</th>\n",
       "      <th>exerciseangia</th>\n",
       "      <th>oldpeak</th>\n",
       "      <th>slope</th>\n",
       "      <th>noofmajorvessels</th>\n",
       "      <th>Heart Risk</th>\n",
       "      <th>Sleep Disorder</th>\n",
       "    </tr>\n",
       "  </thead>\n",
       "  <tbody>\n",
       "    <tr>\n",
       "      <th>0</th>\n",
       "      <td>1017100</td>\n",
       "      <td>23</td>\n",
       "      <td>1</td>\n",
       "      <td>3</td>\n",
       "      <td>3</td>\n",
       "      <td>1</td>\n",
       "      <td>0</td>\n",
       "      <td>0</td>\n",
       "      <td>152</td>\n",
       "      <td>1</td>\n",
       "      <td>2.0</td>\n",
       "      <td>0</td>\n",
       "      <td>0</td>\n",
       "      <td>0</td>\n",
       "      <td>1</td>\n",
       "    </tr>\n",
       "    <tr>\n",
       "      <th>1</th>\n",
       "      <td>1221099</td>\n",
       "      <td>23</td>\n",
       "      <td>1</td>\n",
       "      <td>2</td>\n",
       "      <td>3</td>\n",
       "      <td>1</td>\n",
       "      <td>0</td>\n",
       "      <td>0</td>\n",
       "      <td>201</td>\n",
       "      <td>1</td>\n",
       "      <td>2.3</td>\n",
       "      <td>1</td>\n",
       "      <td>1</td>\n",
       "      <td>1</td>\n",
       "      <td>1</td>\n",
       "    </tr>\n",
       "    <tr>\n",
       "      <th>2</th>\n",
       "      <td>1472578</td>\n",
       "      <td>23</td>\n",
       "      <td>1</td>\n",
       "      <td>0</td>\n",
       "      <td>2</td>\n",
       "      <td>2</td>\n",
       "      <td>0</td>\n",
       "      <td>1</td>\n",
       "      <td>134</td>\n",
       "      <td>1</td>\n",
       "      <td>5.1</td>\n",
       "      <td>0</td>\n",
       "      <td>0</td>\n",
       "      <td>0</td>\n",
       "      <td>1</td>\n",
       "    </tr>\n",
       "    <tr>\n",
       "      <th>3</th>\n",
       "      <td>1765496</td>\n",
       "      <td>23</td>\n",
       "      <td>1</td>\n",
       "      <td>2</td>\n",
       "      <td>3</td>\n",
       "      <td>2</td>\n",
       "      <td>0</td>\n",
       "      <td>2</td>\n",
       "      <td>201</td>\n",
       "      <td>1</td>\n",
       "      <td>4.5</td>\n",
       "      <td>2</td>\n",
       "      <td>3</td>\n",
       "      <td>1</td>\n",
       "      <td>1</td>\n",
       "    </tr>\n",
       "    <tr>\n",
       "      <th>4</th>\n",
       "      <td>9403337</td>\n",
       "      <td>23</td>\n",
       "      <td>1</td>\n",
       "      <td>2</td>\n",
       "      <td>3</td>\n",
       "      <td>2</td>\n",
       "      <td>0</td>\n",
       "      <td>0</td>\n",
       "      <td>139</td>\n",
       "      <td>0</td>\n",
       "      <td>5.3</td>\n",
       "      <td>2</td>\n",
       "      <td>2</td>\n",
       "      <td>1</td>\n",
       "      <td>1</td>\n",
       "    </tr>\n",
       "  </tbody>\n",
       "</table>\n",
       "</div>"
      ],
      "text/plain": [
       "   patientid  age  gender  chestpain  restingBP  serumcholestrol  \\\n",
       "0    1017100   23       1          3          3                1   \n",
       "1    1221099   23       1          2          3                1   \n",
       "2    1472578   23       1          0          2                2   \n",
       "3    1765496   23       1          2          3                2   \n",
       "4    9403337   23       1          2          3                2   \n",
       "\n",
       "   fastingbloodsugar  restingrelectro  maxheartrate  exerciseangia  oldpeak  \\\n",
       "0                  0                0           152              1      2.0   \n",
       "1                  0                0           201              1      2.3   \n",
       "2                  0                1           134              1      5.1   \n",
       "3                  0                2           201              1      4.5   \n",
       "4                  0                0           139              0      5.3   \n",
       "\n",
       "   slope  noofmajorvessels  Heart Risk  Sleep Disorder  \n",
       "0      0                 0           0               1  \n",
       "1      1                 1           1               1  \n",
       "2      0                 0           0               1  \n",
       "3      2                 3           1               1  \n",
       "4      2                 2           1               1  "
      ]
     },
     "execution_count": 11,
     "metadata": {},
     "output_type": "execute_result"
    }
   ],
   "source": [
    "Dataset1Cpy.head()"
   ]
  }
 ],
 "metadata": {
  "kernelspec": {
   "display_name": "Python 3",
   "language": "python",
   "name": "python3"
  },
  "language_info": {
   "codemirror_mode": {
    "name": "ipython",
    "version": 3
   },
   "file_extension": ".py",
   "mimetype": "text/x-python",
   "name": "python",
   "nbconvert_exporter": "python",
   "pygments_lexer": "ipython3",
   "version": "3.11.2"
  }
 },
 "nbformat": 4,
 "nbformat_minor": 2
}
