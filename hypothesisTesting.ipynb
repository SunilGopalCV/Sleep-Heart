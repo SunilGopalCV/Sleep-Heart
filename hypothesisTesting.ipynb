{
 "cells": [
  {
   "cell_type": "markdown",
   "id": "6abe32d3",
   "metadata": {},
   "source": [
    "# <ins>Hypothesis Testing </ins>"
   ]
  },
  {
   "cell_type": "markdown",
   "id": "e402662d",
   "metadata": {},
   "source": [
    "**Hypothesis :**  A male patient with sleep disorder have a higher risk of heart disease"
   ]
  },
  {
   "cell_type": "markdown",
   "id": "2181c8ea",
   "metadata": {},
   "source": [
    "## Step 1: Create a Contingency Table\n",
    "\n",
    "- Create a 2x2 contingency table with rows representing the presence or absence of heart disease and columns representing the presence or absence of a sleeping disorder."
   ]
  },
  {
   "cell_type": "code",
   "execution_count": 1,
   "id": "d642a4f4",
   "metadata": {},
   "outputs": [
    {
     "data": {
      "text/html": [
       "<div>\n",
       "<style scoped>\n",
       "    .dataframe tbody tr th:only-of-type {\n",
       "        vertical-align: middle;\n",
       "    }\n",
       "\n",
       "    .dataframe tbody tr th {\n",
       "        vertical-align: top;\n",
       "    }\n",
       "\n",
       "    .dataframe thead th {\n",
       "        text-align: right;\n",
       "    }\n",
       "</style>\n",
       "<table border=\"1\" class=\"dataframe\">\n",
       "  <thead>\n",
       "    <tr style=\"text-align: right;\">\n",
       "      <th>sleep</th>\n",
       "      <th>0</th>\n",
       "      <th>1</th>\n",
       "    </tr>\n",
       "    <tr>\n",
       "      <th>heart</th>\n",
       "      <th></th>\n",
       "      <th></th>\n",
       "    </tr>\n",
       "  </thead>\n",
       "  <tbody>\n",
       "    <tr>\n",
       "      <th>0</th>\n",
       "      <td>44</td>\n",
       "      <td>113</td>\n",
       "    </tr>\n",
       "    <tr>\n",
       "      <th>1</th>\n",
       "      <td>37</td>\n",
       "      <td>194</td>\n",
       "    </tr>\n",
       "  </tbody>\n",
       "</table>\n",
       "</div>"
      ],
      "text/plain": [
       "sleep   0    1\n",
       "heart         \n",
       "0      44  113\n",
       "1      37  194"
      ]
     },
     "execution_count": 1,
     "metadata": {},
     "output_type": "execute_result"
    }
   ],
   "source": [
    "import pandas as pd\n",
    "\n",
    "data = {'heart': [0, 1, 0, 1, 1, 1, 0, 1, 1, 0, 0, 1, 0, 0, 1, 0, 1, 0, 1, 1, 1, 1,\n",
    "       0, 1, 1, 0, 0, 1, 1, 0, 1, 0, 0, 1, 1, 1, 0, 1, 0, 0, 1, 1, 1, 0,\n",
    "       0, 0, 1, 1, 1, 0, 1, 1, 0, 1, 1, 0, 1, 0, 0, 0, 1, 1, 1, 1, 0, 1,\n",
    "       1, 1, 0, 0, 1, 1, 0, 1, 1, 1, 0, 1, 1, 1, 1, 1, 1, 1, 0, 1, 0, 0,\n",
    "       1, 1, 0, 1, 1, 0, 1, 1, 1, 0, 1, 1, 1, 1, 1, 1, 0, 0, 0, 1, 0, 1,\n",
    "       1, 1, 0, 0, 1, 0, 1, 0, 0, 0, 1, 1, 1, 1, 1, 1, 0, 1, 1, 0, 0, 1,\n",
    "       1, 1, 1, 0, 1, 1, 1, 0, 1, 1, 0, 1, 1, 0, 1, 1, 1, 1, 1, 0, 1, 1,\n",
    "       1, 1, 1, 0, 1, 1, 0, 0, 1, 0, 1, 1, 1, 0, 1, 1, 0, 0, 1, 1, 0, 1,\n",
    "       1, 1, 1, 0, 0, 1, 1, 1, 1, 1, 1, 1, 1, 1, 1, 0, 0, 1, 0, 1, 1, 0,\n",
    "       0, 1, 1, 0, 0, 1, 1, 1, 1, 0, 1, 0, 0, 0, 1, 0, 0, 1, 0, 1, 0, 1,\n",
    "       1, 1, 1, 0, 0, 1, 1, 0, 1, 0, 1, 0, 1, 0, 1, 1, 1, 1, 1, 0, 1, 1,\n",
    "       1, 0, 1, 1, 0, 0, 1, 1, 0, 0, 0, 0, 1, 1, 1, 1, 0, 1, 1, 0, 1, 0,\n",
    "       1, 1, 0, 1, 1, 1, 1, 0, 1, 0, 0, 1, 0, 1, 1, 1, 1, 1, 0, 1, 0, 0,\n",
    "       1, 1, 1, 1, 1, 1, 1, 0, 0, 1, 1, 0, 0, 1, 1, 0, 1, 1, 1, 0, 1, 1,\n",
    "       0, 1, 0, 1, 1, 1, 0, 0, 1, 0, 0, 0, 0, 0, 0, 1, 1, 0, 0, 1, 0, 0,\n",
    "       0, 1, 0, 0, 1, 0, 1, 0, 0, 0, 0, 0, 0, 1, 0, 0, 0, 1, 0, 1, 1, 0,\n",
    "       0, 1, 0, 0, 0, 1, 0, 1, 0, 1, 0, 1, 0, 1, 0, 0, 0, 1, 1, 1, 1, 0,\n",
    "       1, 1, 0, 1, 0, 0, 1, 1, 1, 1, 0, 1, 1, 1],\n",
    "        'sleep': [1, 1, 1, 1, 1, 0, 0, 1, 1, 1, 1, 0, 0, 0, 1, 1, 1, 0, 1, 1, 1, 1,\n",
    "       0, 1, 0, 1, 1, 1, 0, 1, 1, 1, 1, 0, 0, 1, 1, 1, 1, 0, 1, 1, 1, 1,\n",
    "       1, 0, 1, 1, 1, 1, 0, 1, 1, 1, 1, 1, 1, 1, 0, 0, 1, 0, 1, 1, 1, 1,\n",
    "       1, 1, 0, 0, 1, 1, 0, 0, 1, 1, 1, 0, 1, 1, 1, 1, 1, 1, 1, 1, 0, 1,\n",
    "       0, 1, 1, 1, 1, 1, 1, 1, 1, 0, 1, 1, 1, 1, 1, 0, 0, 1, 1, 1, 0, 0,\n",
    "       1, 1, 1, 1, 1, 1, 1, 1, 1, 0, 1, 0, 1, 1, 0, 1, 0, 0, 1, 1, 0, 1,\n",
    "       0, 1, 1, 1, 1, 1, 1, 1, 1, 1, 1, 1, 1, 0, 0, 1, 1, 1, 1, 0, 0, 0,\n",
    "       1, 1, 1, 1, 1, 1, 1, 1, 1, 1, 1, 1, 1, 1, 1, 1, 1, 1, 1, 1, 1, 1,\n",
    "       0, 1, 0, 1, 1, 1, 1, 0, 1, 1, 1, 1, 1, 1, 0, 1, 0, 1, 1, 1, 1, 0,\n",
    "       1, 1, 1, 1, 1, 1, 1, 0, 1, 1, 0, 1, 1, 1, 1, 1, 0, 1, 1, 1, 1, 1,\n",
    "       1, 1, 0, 1, 0, 1, 1, 1, 1, 1, 1, 0, 1, 1, 0, 1, 1, 1, 1, 1, 1, 0,\n",
    "       1, 1, 0, 1, 0, 0, 1, 1, 1, 1, 0, 1, 1, 0, 1, 1, 1, 1, 1, 1, 1, 0,\n",
    "       1, 1, 1, 1, 1, 1, 1, 1, 1, 0, 1, 1, 1, 1, 1, 1, 1, 1, 0, 1, 0, 1,\n",
    "       1, 1, 1, 1, 1, 0, 1, 0, 1, 1, 1, 1, 0, 1, 1, 1, 1, 1, 1, 1, 1, 1,\n",
    "       1, 1, 1, 1, 0, 1, 1, 0, 1, 1, 1, 1, 1, 1, 1, 1, 1, 1, 1, 1, 1, 0,\n",
    "       1, 1, 1, 0, 0, 1, 1, 1, 1, 1, 1, 1, 1, 1, 1, 1, 0, 1, 0, 1, 1, 0,\n",
    "       1, 1, 1, 1, 1, 1, 1, 1, 0, 1, 0, 1, 1, 1, 1, 1, 1, 1, 1, 0, 1, 0,\n",
    "       1, 0, 1, 1, 1, 1, 1, 0, 1, 1, 1, 1, 1, 1]}\n",
    "\n",
    "df = pd.DataFrame(data)\n",
    "\n",
    "contingency_table = pd.crosstab(df['heart'], df['sleep'])\n",
    "contingency_table"
   ]
  },
  {
   "cell_type": "markdown",
   "id": "4675c527",
   "metadata": {},
   "source": [
    "## Step 2: Calculate Probabilities\n",
    "- Calculate the probability of having heart disease given a sleeping disorder and vice versa."
   ]
  },
  {
   "cell_type": "code",
   "execution_count": 2,
   "id": "8850df25",
   "metadata": {},
   "outputs": [
    {
     "name": "stdout",
     "output_type": "stream",
     "text": [
      "Probability of having heart disease given sleeping disorder: 0.8398268398268398\n",
      "Probability of having sleeping disorder given heart disease: 0.6319218241042345\n"
     ]
    }
   ],
   "source": [
    "# Probability of having heart disease given sleeping disorder\n",
    "prob_heart_given_sleep = contingency_table.loc[1, 1] / contingency_table.loc[1].sum()\n",
    "\n",
    "# Probability of having sleeping disorder given heart disease\n",
    "prob_sleep_given_heart = contingency_table.loc[1, 1] / contingency_table[1].sum()\n",
    "\n",
    "print(\"Probability of having heart disease given sleeping disorder:\", prob_heart_given_sleep)\n",
    "print(\"Probability of having sleeping disorder given heart disease:\", prob_sleep_given_heart)"
   ]
  },
  {
   "cell_type": "markdown",
   "id": "c302408e",
   "metadata": {},
   "source": [
    "## Step 3: Chi-Square Test\n",
    "- Performing a chi-square test for independence to check if there is a significant association between heart disease and sleeping disorder."
   ]
  },
  {
   "cell_type": "code",
   "execution_count": 3,
   "id": "4d514a8d",
   "metadata": {},
   "outputs": [
    {
     "name": "stdout",
     "output_type": "stream",
     "text": [
      "Chi-square statistic: 7.448899768906406\n",
      "P-value: 0.006347523772474585\n"
     ]
    }
   ],
   "source": [
    "from scipy.stats import chi2_contingency\n",
    "\n",
    "chi2, p, _, _ = chi2_contingency(contingency_table)\n",
    "print(\"Chi-square statistic:\", chi2)\n",
    "print(\"P-value:\", p)"
   ]
  },
  {
   "cell_type": "markdown",
   "id": "72d22fd6",
   "metadata": {},
   "source": [
    "## Step 4: Interpret Results\n",
    "- Since p-value is less than the significance level (commonly set at 0.05), we can reject the null hypothesis, suggesting that there is a significant association between heart disease and sleeping disorder."
   ]
  },
  {
   "cell_type": "markdown",
   "id": "417b7a95",
   "metadata": {},
   "source": [
    "## Fisher's exact test\n",
    "\n",
    "- The odds ratio will tell you the strength and direction of the association between heart disease and sleeping disorder, and the p-value will indicate the statistical significance of this association. If the p-value is less than your chosen significance level (e.g., 0.05), we may reject the null hypothesis and conclude that there is a significant association.\n",
    "\n",
    "- Fisher's exact test is particularly useful when dealing with small sample sizes, where the chi-square test may be less reliable. It provides an exact p-value, making it suitable for situations where the assumptions of the chi-square test are not met."
   ]
  },
  {
   "cell_type": "code",
   "execution_count": 4,
   "id": "271f2b6f",
   "metadata": {},
   "outputs": [
    {
     "name": "stdout",
     "output_type": "stream",
     "text": [
      "Odds Ratio: 2.041616838077015\n",
      "P-value: 0.005094694570650907\n"
     ]
    }
   ],
   "source": [
    "from scipy.stats import fisher_exact\n",
    "\n",
    "# Perform Fisher's exact test\n",
    "odds_ratio, p_value = fisher_exact(contingency_table)\n",
    "\n",
    "print(\"Odds Ratio:\", odds_ratio)\n",
    "print(\"P-value:\", p_value)\n"
   ]
  },
  {
   "cell_type": "markdown",
   "id": "d875a6e0",
   "metadata": {},
   "source": [
    "## Area under the receiver operating characteristic curve (AUC-ROC)"
   ]
  },
  {
   "cell_type": "code",
   "execution_count": 5,
   "id": "e60a3cbb",
   "metadata": {},
   "outputs": [
    {
     "data": {
      "image/png": "[encoded data removed]",
      "text/plain": [
       "<Figure size 640x480 with 1 Axes>"
      ]
     },
     "metadata": {},
     "output_type": "display_data"
    }
   ],
   "source": [
    "from sklearn.metrics import roc_auc_score, roc_curve\n",
    "import matplotlib.pyplot as plt\n",
    "\n",
    "# Calculate the AUC-ROC score\n",
    "auc_roc = roc_auc_score(df['heart'], df['sleep'])\n",
    "\n",
    "# Calculate the ROC curve\n",
    "fpr, tpr, thresholds = roc_curve(df['heart'], df['sleep'])\n",
    "\n",
    "# Plot the ROC curve\n",
    "plt.plot(fpr, tpr, label=f'AUC-ROC = {auc_roc:.2f}')\n",
    "plt.plot([0, 1], [0, 1], linestyle='--', color='gray', label='Random Guess')\n",
    "plt.xlabel('False Positive Rate')\n",
    "plt.ylabel('True Positive Rate')\n",
    "plt.title('Receiver Operating Characteristic (ROC) Curve')\n",
    "plt.legend()\n",
    "plt.show()\n"
   ]
  },
  {
   "cell_type": "markdown",
   "id": "3bf26959",
   "metadata": {},
   "source": [
    "- The AUC-ROC is commonly used in binary classification problems to evaluate the discrimination ability of a model.\n",
    "\n",
    "- In this case, the AUC-ROC score will give you an indication of how well the sleeping disorder variable discriminates between individuals with and without heart disease. A score of 0.5 suggests no discrimination (similar to random chance), while a score of 1.0 indicates perfect discrimination.\n",
    "\n",
    "- Interpret the AUC-ROC score in the context of your study. If the AUC-ROC is close to 0.63 or higher, it suggests that the sleeping disorder variable has good predictive power for heart disease based on your hypothesis."
   ]
  }
 ],
 "metadata": {
  "kernelspec": {
   "display_name": "Python 3 (ipykernel)",
   "language": "python",
   "name": "python3"
  },
  "language_info": {
   "codemirror_mode": {
    "name": "ipython",
    "version": 3
   },
   "file_extension": ".py",
   "mimetype": "text/x-python",
   "name": "python",
   "nbconvert_exporter": "python",
   "pygments_lexer": "ipython3",
   "version": "3.11.2"
  }
 },
 "nbformat": 4,
 "nbformat_minor": 5
}
